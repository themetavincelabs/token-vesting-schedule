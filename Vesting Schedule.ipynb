{
 "cells": [
  {
   "cell_type": "code",
   "execution_count": 2,
   "id": "f6b030aa",
   "metadata": {},
   "outputs": [],
   "source": [
    "###IMPORT LIBRARIES###\n",
    "import matplotlib.pyplot as plt\n",
    "import numpy as np\n",
    "import pandas as pd\n",
    "#import json #json encoder\n",
    "import matplotlib.pyplot as plt"
   ]
  },
  {
   "cell_type": "code",
   "execution_count": 5,
   "id": "2c7ece45",
   "metadata": {},
   "outputs": [],
   "source": [
    "#Inputs\n",
    "numTokens = 10000000\n",
    "day1LiqP = 0.10 \n",
    "lockupMos = 12\n",
    "vest = 48\n",
    "vestList = []\n",
    "totalVest = lockupMos + vest"
   ]
  },
  {
   "cell_type": "code",
   "execution_count": 8,
   "id": "3ff7ea32",
   "metadata": {},
   "outputs": [
    {
     "data": {
      "text/plain": [
       "187500.0"
      ]
     },
     "execution_count": 8,
     "metadata": {},
     "output_type": "execute_result"
    }
   ],
   "source": [
    "vestableTokens = (numTokens * (1-day1LiqP))\n",
    "vestableTokens\n",
    "\n",
    "monthlyVest = vestableTokens/vest\n",
    "monthlyVest "
   ]
  },
  {
   "cell_type": "code",
   "execution_count": 15,
   "id": "3082aa3f",
   "metadata": {},
   "outputs": [
    {
     "name": "stdout",
     "output_type": "stream",
     "text": [
      "[187500.0, 187500.0, 187500.0, 187500.0, 187500.0, 187500.0, 187500.0, 187500.0, 187500.0, 187500.0, 187500.0, 187500.0, 187500.0, 187500.0, 187500.0, 187500.0, 187500.0, 187500.0, 187500.0, 187500.0, 187500.0, 187500.0, 187500.0, 187500.0, 187500.0, 187500.0, 187500.0, 187500.0, 187500.0, 187500.0, 187500.0, 187500.0, 187500.0, 187500.0, 187500.0, 187500.0, 187500.0, 187500.0, 187500.0, 187500.0, 187500.0, 187500.0, 187500.0, 187500.0, 187500.0, 187500.0, 187500.0, 187500.0]\n"
     ]
    }
   ],
   "source": [
    "#unlock loop, define this as a function\n",
    "\n",
    "vestedTokens = []\n",
    "\n",
    "for i in range(vest):\n",
    "    vestedTokens = vestedTokens + [monthlyVest]\n",
    "print(vestedTokens)"
   ]
  }
 ],
 "metadata": {
  "kernelspec": {
   "display_name": "Python 3 (ipykernel)",
   "language": "python",
   "name": "python3"
  },
  "language_info": {
   "codemirror_mode": {
    "name": "ipython",
    "version": 3
   },
   "file_extension": ".py",
   "mimetype": "text/x-python",
   "name": "python",
   "nbconvert_exporter": "python",
   "pygments_lexer": "ipython3",
   "version": "3.9.13"
  }
 },
 "nbformat": 4,
 "nbformat_minor": 5
}
